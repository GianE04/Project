{
 "cells": [
  {
   "cell_type": "markdown",
   "id": "b4576644",
   "metadata": {},
   "source": [
    "# Data Science Tools and Ecosystem\n"
   ]
  },
  {
   "cell_type": "markdown",
   "id": "85705d1e",
   "metadata": {},
   "source": [
    "In this notebook, Data Science Tools and Ecosystem are summarized."
   ]
  },
  {
   "cell_type": "markdown",
   "id": "37d7a72d",
   "metadata": {},
   "source": [
    "Some of the popular languages that Data Scientists use are:"
   ]
  },
  {
   "cell_type": "markdown",
   "id": "63ae6805",
   "metadata": {},
   "source": [
    "- Python\n",
    "- R\n",
    "- MySQL"
   ]
  },
  {
   "cell_type": "markdown",
   "id": "49d49b30",
   "metadata": {},
   "source": [
    "Some of the commonly used libraries used by Data Scientists include:"
   ]
  },
  {
   "cell_type": "markdown",
   "id": "80c3c55c",
   "metadata": {},
   "source": [
    "- NumPy.\n",
    "- Keras.\n",
    "- Pandas."
   ]
  },
  {
   "cell_type": "markdown",
   "id": "57a37e84",
   "metadata": {},
   "source": [
    "| Data Science Tools     |\n",
    "|------------------------|\n",
    "| Jupyter Notebook       |\n",
    "| RStudio                |\n",
    "| VSCode with Python      |"
   ]
  },
  {
   "cell_type": "markdown",
   "id": "e5307b1d",
   "metadata": {},
   "source": [
    "### Below are a few examples of evaluating arithmetic expressions in Python:"
   ]
  },
  {
   "cell_type": "code",
   "execution_count": 4,
   "id": "59f2be5f",
   "metadata": {},
   "outputs": [
    {
     "data": {
      "text/plain": [
       "17"
      ]
     },
     "execution_count": 4,
     "metadata": {},
     "output_type": "execute_result"
    }
   ],
   "source": [
    "# This is a simple arithmetic expression to multiply then add integers.\n",
    "result = (3 * 4) + 5\n",
    "result"
   ]
  },
  {
   "cell_type": "code",
   "execution_count": 5,
   "id": "69b2f939",
   "metadata": {},
   "outputs": [
    {
     "data": {
      "text/plain": [
       "3.3333333333333335"
      ]
     },
     "execution_count": 5,
     "metadata": {},
     "output_type": "execute_result"
    }
   ],
   "source": [
    "# This will convert 200 minutes to hours by dividing by 60.\n",
    "minutes = 200\n",
    "hours = minutes / 60\n",
    "hours"
   ]
  },
  {
   "cell_type": "markdown",
   "id": "95e4538f",
   "metadata": {},
   "source": [
    "**Objectives:**\n",
    "\n",
    "- Understand basic arithmetic operations in Python.\n",
    "- Explore and evaluate arithmetic expressions.\n",
    "- Learn how to use Python for simple calculations.\n",
    "- Familiarize yourself with Jupyter Notebook environment.\n",
    "- Convert units, such as minutes to hours, using Python."
   ]
  },
  {
   "cell_type": "markdown",
   "id": "e8170a68",
   "metadata": {},
   "source": [
    "## Author\n",
    "Giancarlos Estevez"
   ]
  },
  {
   "cell_type": "code",
   "execution_count": null,
   "id": "79d8d000",
   "metadata": {},
   "outputs": [],
   "source": []
  }
 ],
 "metadata": {
  "kernelspec": {
   "display_name": "Python 3 (ipykernel)",
   "language": "python",
   "name": "python3"
  },
  "language_info": {
   "codemirror_mode": {
    "name": "ipython",
    "version": 3
   },
   "file_extension": ".py",
   "mimetype": "text/x-python",
   "name": "python",
   "nbconvert_exporter": "python",
   "pygments_lexer": "ipython3",
   "version": "3.11.5"
  }
 },
 "nbformat": 4,
 "nbformat_minor": 5
}
